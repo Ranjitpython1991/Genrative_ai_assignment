{
 "cells": [
  {
   "cell_type": "code",
   "execution_count": null,
   "metadata": {},
   "outputs": [],
   "source": []
  },
  {
   "cell_type": "markdown",
   "metadata": {},
   "source": [
    "1 Discuss string slicing and provide examples"
   ]
  },
  {
   "cell_type": "code",
   "execution_count": null,
   "metadata": {},
   "outputs": [],
   "source": [
    "# String slicing is a fundamental operation in Python that allows you to extract a portion of a string, creating a new string from the selected part.\n",
    "# string slicing is performed by specifying the start and end indices within square brackets, separated by a colon,\n",
    "\n",
    "# example : string[start:end]"
   ]
  },
  {
   "cell_type": "code",
   "execution_count": 1,
   "metadata": {},
   "outputs": [
    {
     "name": "stdout",
     "output_type": "stream",
     "text": [
      "Hello\n"
     ]
    }
   ],
   "source": [
    "text = \"Hello, World!\"\n",
    "\n",
    "slice_result = text[0:5]\n",
    "print(slice_result)"
   ]
  },
  {
   "cell_type": "code",
   "execution_count": null,
   "metadata": {},
   "outputs": [],
   "source": []
  },
  {
   "cell_type": "markdown",
   "metadata": {},
   "source": [
    "2. Explain the key features of lists in Python"
   ]
  },
  {
   "cell_type": "code",
   "execution_count": null,
   "metadata": {},
   "outputs": [],
   "source": [
    "\n",
    "\n",
    "# 1. Lists can contain items of different types like strings, integers, floating point numbers and boolean values.\n",
    "\n",
    "# 2.Lists are mutable and dynamic; list items can be added, removed \n",
    "# 3.Lists are ordered\n",
    "# 4.Lists use zero-based indexing; every list item start with index zero \n",
    "# 5.Duplicated list items are allowed.\n",
    "\n",
    "\n",
    "\n",
    "\n"
   ]
  },
  {
   "cell_type": "markdown",
   "metadata": {},
   "source": [
    "3.Describe how to access, modify, and delete elements in a list with examples"
   ]
  },
  {
   "cell_type": "code",
   "execution_count": 2,
   "metadata": {},
   "outputs": [],
   "source": [
    "list_a=[1,2,3,4,5,6]"
   ]
  },
  {
   "cell_type": "code",
   "execution_count": 7,
   "metadata": {},
   "outputs": [
    {
     "name": "stdout",
     "output_type": "stream",
     "text": [
      "first item in  list  : 1\n",
      "second item in  list :  2\n",
      "updated list [1, 2, 24, 4, 5, 6]\n",
      "list aftet delete 3 item that is 4 : [1, 2, 24, 5, 6]\n"
     ]
    }
   ],
   "source": [
    "#access list element \n",
    "print(\"first item in  list  :\",list_a[0])\n",
    "print(\"second item in  list : \",list_a[1])\n",
    "\n",
    "#modify \n",
    "\n",
    "list_a[2]=24\n",
    "print(\"updated list\",list_a)\n",
    "\n",
    "#delete elmement \n",
    "\n",
    "del list_a[3]\n",
    "print(\"list aftet delete 3 item that is 4 :\",list_a )"
   ]
  },
  {
   "cell_type": "code",
   "execution_count": null,
   "metadata": {},
   "outputs": [],
   "source": []
  },
  {
   "cell_type": "markdown",
   "metadata": {},
   "source": [
    "4.Compare and contrast tuples and lists with examples"
   ]
  },
  {
   "cell_type": "code",
   "execution_count": null,
   "metadata": {},
   "outputs": [],
   "source": [
    "Differences between List and Tuple in Python\n",
    "\n",
    "1. Lists are mutable\n",
    "\n",
    "Tuples are immutable\n",
    "\n",
    "\n",
    "2. Lists consume more memory\n",
    "\n",
    "Tuple consumes less memory as compared to the list\n",
    "\n",
    "3. Lists have several built-in methods\n",
    "Tuple does not have many built-in methods.\n",
    "\n",
    "\n",
    "\n"
   ]
  },
  {
   "cell_type": "markdown",
   "metadata": {},
   "source": [
    "5.  the key features of sets and provide examples of their use"
   ]
  },
  {
   "cell_type": "code",
   "execution_count": null,
   "metadata": {},
   "outputs": [],
   "source": [
    "Sets are used to store multiple items in a single variable.\n",
    "Set items are unordered, unchangeable, and do not allow duplicate values."
   ]
  },
  {
   "cell_type": "code",
   "execution_count": 15,
   "metadata": {},
   "outputs": [
    {
     "name": "stdout",
     "output_type": "stream",
     "text": [
      "{'banana', 'apple', 'cherry'}\n"
     ]
    }
   ],
   "source": [
    "set_1 = {\"apple\", \"banana\", \"cherry\"}\n",
    "print(set_1)"
   ]
  },
  {
   "cell_type": "code",
   "execution_count": 18,
   "metadata": {},
   "outputs": [
    {
     "name": "stdout",
     "output_type": "stream",
     "text": [
      "{1, 2, 3, 4, 6, 8}\n"
     ]
    }
   ],
   "source": [
    "set_2={1,2,6,8,3,4,2,3}\n",
    "print(set_2)"
   ]
  },
  {
   "cell_type": "code",
   "execution_count": null,
   "metadata": {},
   "outputs": [],
   "source": []
  },
  {
   "cell_type": "markdown",
   "metadata": {},
   "source": [
    "6. Discuss the use cases of tuples and sets in Python programming"
   ]
  },
  {
   "cell_type": "code",
   "execution_count": null,
   "metadata": {},
   "outputs": [],
   "source": [
    "# Tuples are immutable collections of variables, so they can't be changed after creation. \n",
    "# Sets are mutable collections of variables, so sets can be changed after creation."
   ]
  },
  {
   "cell_type": "code",
   "execution_count": 10,
   "metadata": {},
   "outputs": [
    {
     "name": "stdout",
     "output_type": "stream",
     "text": [
      "(55, 1, 2, 3, 4, 5)\n"
     ]
    }
   ],
   "source": [
    "tuple = (55,1, 2, 3, 4, 5)\n",
    "print(tuple)"
   ]
  },
  {
   "cell_type": "code",
   "execution_count": 11,
   "metadata": {},
   "outputs": [
    {
     "data": {
      "text/plain": [
       "{1, 2, 3, 4, 5, 55}"
      ]
     },
     "execution_count": 11,
     "metadata": {},
     "output_type": "execute_result"
    }
   ],
   "source": [
    "set(tuple)"
   ]
  },
  {
   "cell_type": "markdown",
   "metadata": {},
   "source": [
    "7.Describe how to add, modify, and delete items in a dictionary with examples\u0014"
   ]
  },
  {
   "cell_type": "code",
   "execution_count": 1,
   "metadata": {},
   "outputs": [],
   "source": [
    "dict={'Germany': 'Berlin', 'Canada': 'Ottawa', 'England': 'London'}"
   ]
  },
  {
   "cell_type": "code",
   "execution_count": 2,
   "metadata": {},
   "outputs": [],
   "source": [
    "# add an item with \"Italy\" as key and \"Rome\" as its value\n",
    "dict[\"india\"] = \"Delhi\""
   ]
  },
  {
   "cell_type": "code",
   "execution_count": 3,
   "metadata": {},
   "outputs": [
    {
     "name": "stdout",
     "output_type": "stream",
     "text": [
      "after addinf {'Germany': 'Berlin', 'Canada': 'Ottawa', 'England': 'London', 'india': 'Delhi'}\n"
     ]
    }
   ],
   "source": [
    "print(\"after addinf\",dict)"
   ]
  },
  {
   "cell_type": "code",
   "execution_count": 6,
   "metadata": {},
   "outputs": [
    {
     "name": "stdout",
     "output_type": "stream",
     "text": [
      "{'Germany': 'Berlin', 'Canada': 'Ottawa', 'England': 'London', 'india': 'Delhi', 'usa': 'new_york'}\n",
      "modifiedidct {'Germany': 'Berlin', 'Canada': 'Ottawa', 'England': 'London', 'india': 'Delhi', 'usa': 'london'}\n"
     ]
    }
   ],
   "source": [
    "dict[\"usa\"] = \"new_york\"\n",
    "print(dict)\n",
    "# modified \n",
    "\n",
    "dict[\"usa\"] = \"london\"\n",
    "print(\"modifiedidct\",dict)"
   ]
  },
  {
   "cell_type": "code",
   "execution_count": 7,
   "metadata": {},
   "outputs": [
    {
     "name": "stdout",
     "output_type": "stream",
     "text": [
      "dict after deleted dit {'Germany': 'Berlin', 'Canada': 'Ottawa', 'England': 'London', 'india': 'Delhi'}\n"
     ]
    }
   ],
   "source": [
    "del dict[\"usa\"]\n",
    "print(\"dict after deleted dit\",dict)"
   ]
  },
  {
   "cell_type": "code",
   "execution_count": null,
   "metadata": {},
   "outputs": [],
   "source": []
  },
  {
   "cell_type": "markdown",
   "metadata": {},
   "source": [
    "8.discuss the importance of dictionary keys being  immutable and provide example "
   ]
  },
  {
   "cell_type": "code",
   "execution_count": 8,
   "metadata": {},
   "outputs": [],
   "source": [
    "# A dictionary in Python is a collection of key-value pairs, where each key is associated with a value.\n",
    "\n",
    "\n",
    "# n a dictionary, the key part must be immutable. This means that once a key is created, it cannot be changed. Immutability is essential for keys because it ensures that the dictionary can efficiently look up values based on their keys. If a key was mutable, its hash value could change, making it impossible to find the associated value in the dictionary. \n",
    "\n",
    "# dict = {'name': 'raju', 'age': 30} 'Name' and 'age' are the keys\n",
    "dict = {'name': 'raju', 'age': 30}"
   ]
  }
 ],
 "metadata": {
  "kernelspec": {
   "display_name": "base",
   "language": "python",
   "name": "python3"
  },
  "language_info": {
   "codemirror_mode": {
    "name": "ipython",
    "version": 3
   },
   "file_extension": ".py",
   "mimetype": "text/x-python",
   "name": "python",
   "nbconvert_exporter": "python",
   "pygments_lexer": "ipython3",
   "version": "3.9.12"
  }
 },
 "nbformat": 4,
 "nbformat_minor": 2
}
